{
 "cells": [
  {
   "cell_type": "markdown",
   "id": "eef795d3-3248-43e5-a084-22b85a95d751",
   "metadata": {},
   "source": [
    "### GROUP 12 \n",
    "#### Group Members \n",
    "* Agbatan Fiacre Luc Kouderin\n",
    "* Nayamba Olivia \n",
    "* Emanuel Joseph Ngogo\n",
    "* Moreen Mbuki Nderitu"
   ]
  },
  {
   "cell_type": "markdown",
   "id": "368ce636-59e3-452b-8005-1410a03c2ade",
   "metadata": {},
   "source": [
    "### Project 4. Capitalize It.\n",
    "Many people do not use capital letters correctly, especially when typing on small devices like smart phones.\n",
    "* In this exercise, you will write a function that capitalizes the appropriate characters in a string.\n",
    "*  A lowercase “i” should be replaced with an uppercase “I” if it is both preceded and followed by a space.\n",
    "*  The first character in the string should also be capitalized.\n",
    "*  The first non-space character after a “.\", “!\" or “?\".\n",
    "\n",
    "For example, if the function is provided with the string\n",
    "   - what time do i have to be there?what’s the address? \n",
    "   \n",
    "   \n",
    "Then it should return the string\n",
    "\n",
    "   - What time do I have to be there? What’s the address?\n",
    "\n",
    "Include a main program that reads a string from the user, capitalizes it using your function, and\n",
    "displays the result."
   ]
  },
  {
   "cell_type": "code",
   "execution_count": 1,
   "id": "mature-confusion",
   "metadata": {},
   "outputs": [
    {
     "data": {
      "text/plain": [
       "'Today is on wednesday.It a happy day!Right?Moreen'"
      ]
     },
     "execution_count": 1,
     "metadata": {},
     "output_type": "execute_result"
    }
   ],
   "source": [
    "def Cap1(string):\n",
    "    \"\"\"\n",
    "    This function capitalizes the characher that commes after these punctuation marks \n",
    "    \".\", \"?\", \"!\"\n",
    "    Input: String \n",
    "    Output: new string with capitalized character after the  \".\", \"?\", \"!\"\n",
    "    \"\"\"\n",
    "    new_sentence =\"\"\n",
    "    for i in range(len(string)):\n",
    "             if string[i-1] == \".\" or string[i-1] == \"?\" or string[i-1] == \"!\":\n",
    "                 new_sentence = new_sentence + string[i].upper()\n",
    "             else:\n",
    "                new_sentence = new_sentence + string[i]\n",
    "    return(new_sentence)\n",
    "Cap1(\"Today is on wednesday.it a happy day!right?moreen\")"
   ]
  },
  {
   "cell_type": "code",
   "execution_count": 2,
   "id": "bottom-provider",
   "metadata": {},
   "outputs": [
    {
     "data": {
      "text/plain": [
       "' Todayis. wednesday! we are working on: pthon; project?'"
      ]
     },
     "execution_count": 2,
     "metadata": {},
     "output_type": "execute_result"
    }
   ],
   "source": [
    "def space(string):\n",
    "    \"\"\"\n",
    "    This function put space after the following punctuation marks \n",
    "    '.', '?', '!', ',', ':', ';'\n",
    "    Input: String \n",
    "    Output: A string with the spaces after the above punctuation marks \n",
    "    \"\"\"\n",
    "    new_sentence = \" \"\n",
    "    for i in range(len(string)):\n",
    "        new_sentence = new_sentence + string[i]\n",
    "        if string[i] in ['.', '?', '!', ',', ':', ';'] and (i + 1 < len(string)) and string[i + 1] != ' ':\n",
    "            new_sentence = new_sentence + ' ' \n",
    "            \n",
    "    return(new_sentence)\n",
    "space(\"Todayis.wednesday!we are working on:pthon;project?\")"
   ]
  },
  {
   "cell_type": "code",
   "execution_count": 3,
   "id": "photographic-dressing",
   "metadata": {},
   "outputs": [
    {
     "data": {
      "text/plain": [
       "'Today is I on I am happy today I'"
      ]
     },
     "execution_count": 3,
     "metadata": {},
     "output_type": "execute_result"
    }
   ],
   "source": [
    "def capitalize_i(string):\n",
    "    \"\"\"\n",
    "    This function is used to capitalize every i preceeded space and follow by space too\n",
    "    Input: String\n",
    "    Output: A new string with the capitalized i that is preceeded by space and followed\n",
    "    by space\n",
    "    \"\"\"\n",
    "    new_string = \"\"\n",
    "    for i in range(len(string)):\n",
    "        if string[i] == \"i\" and string[i - 1] == \" \":\n",
    "            if i +1 == len(string):\n",
    "                new_string = new_string + string[i].upper()\n",
    "            elif  string[i + 1] == \" \" :\n",
    "                new_string = new_string + string[i].upper()\n",
    "            else:\n",
    "                new_string = new_string + string[i]\n",
    "        else:\n",
    "            new_string = new_string + string[i]\n",
    "            \n",
    "    return new_string      \n",
    "capitalize_i(\"Today is i on i am happy today i\")"
   ]
  },
  {
   "cell_type": "code",
   "execution_count": 4,
   "id": "offensive-visit",
   "metadata": {},
   "outputs": [
    {
     "ename": "NameError",
     "evalue": "name 'data1' is not defined",
     "output_type": "error",
     "traceback": [
      "\u001b[1;31m---------------------------------------------------------------------------\u001b[0m",
      "\u001b[1;31mNameError\u001b[0m                                 Traceback (most recent call last)",
      "Cell \u001b[1;32mIn[4], line 16\u001b[0m\n\u001b[0;32m     14\u001b[0m     new_string\u001b[38;5;241m=\u001b[39m\u001b[38;5;124m'\u001b[39m\u001b[38;5;124m \u001b[39m\u001b[38;5;124m'\u001b[39m\u001b[38;5;241m.\u001b[39mjoin(text_word)\n\u001b[0;32m     15\u001b[0m     \u001b[38;5;28;01mreturn\u001b[39;00m new_string\n\u001b[1;32m---> 16\u001b[0m proper_nouns(\u001b[38;5;124m'\u001b[39m\u001b[38;5;124mThis project was done by luc, olivia, moreen and emmanuel at monday, tuesday of october. luc and moreen will go to benin for his internship and after go to canada.\u001b[39m\u001b[38;5;124m'\u001b[39m)\n",
      "Cell \u001b[1;32mIn[4], line 8\u001b[0m, in \u001b[0;36mproper_nouns\u001b[1;34m(string)\u001b[0m\n\u001b[0;32m      1\u001b[0m \u001b[38;5;28;01mdef\u001b[39;00m \u001b[38;5;21mproper_nouns\u001b[39m(string) :\n\u001b[0;32m      2\u001b[0m \u001b[38;5;250m    \u001b[39m\u001b[38;5;124;03m\"\"\"\u001b[39;00m\n\u001b[0;32m      3\u001b[0m \u001b[38;5;124;03m    This finction takes in two dictionaries of proper nouns that needs to be capitalized in the string \u001b[39;00m\n\u001b[0;32m      4\u001b[0m \u001b[38;5;124;03m    Input: String \u001b[39;00m\n\u001b[0;32m      5\u001b[0m \u001b[38;5;124;03m    Output: Captalizing the name that are in the two dictionaries\u001b[39;00m\n\u001b[0;32m      6\u001b[0m \u001b[38;5;124;03m    \u001b[39;00m\n\u001b[0;32m      7\u001b[0m \u001b[38;5;124;03m    \"\"\"\u001b[39;00m\n\u001b[1;32m----> 8\u001b[0m     dictionnary1\u001b[38;5;241m=\u001b[39mdata1[\u001b[38;5;124m'\u001b[39m\u001b[38;5;124mcities\u001b[39m\u001b[38;5;124m'\u001b[39m]\u001b[38;5;241m+\u001b[39mdata1[\u001b[38;5;124m'\u001b[39m\u001b[38;5;124mcountries\u001b[39m\u001b[38;5;124m'\u001b[39m]\u001b[38;5;241m+\u001b[39mdata1[\u001b[38;5;124m'\u001b[39m\u001b[38;5;124mdays\u001b[39m\u001b[38;5;124m'\u001b[39m]\u001b[38;5;241m+\u001b[39mdata1[\u001b[38;5;124m'\u001b[39m\u001b[38;5;124mmonths\u001b[39m\u001b[38;5;124m'\u001b[39m]\u001b[38;5;241m+\u001b[39mdata1[\u001b[38;5;124m'\u001b[39m\u001b[38;5;124mnames\u001b[39m\u001b[38;5;124m'\u001b[39m]\n\u001b[0;32m      9\u001b[0m     dictionnary2\u001b[38;5;241m=\u001b[39mdata2[\u001b[38;5;124m'\u001b[39m\u001b[38;5;124mcities\u001b[39m\u001b[38;5;124m'\u001b[39m]\u001b[38;5;241m+\u001b[39mdata2[\u001b[38;5;124m'\u001b[39m\u001b[38;5;124mcountries\u001b[39m\u001b[38;5;124m'\u001b[39m]\u001b[38;5;241m+\u001b[39mdata2[\u001b[38;5;124m'\u001b[39m\u001b[38;5;124mdays\u001b[39m\u001b[38;5;124m'\u001b[39m]\u001b[38;5;241m+\u001b[39mdata2[\u001b[38;5;124m'\u001b[39m\u001b[38;5;124mmonths\u001b[39m\u001b[38;5;124m'\u001b[39m]\u001b[38;5;241m+\u001b[39mdata2[\u001b[38;5;124m'\u001b[39m\u001b[38;5;124mnames\u001b[39m\u001b[38;5;124m'\u001b[39m]\n\u001b[0;32m     10\u001b[0m     text_word\u001b[38;5;241m=\u001b[39mstring\u001b[38;5;241m.\u001b[39msplit()\n",
      "\u001b[1;31mNameError\u001b[0m: name 'data1' is not defined"
     ]
    }
   ],
   "source": [
    "def proper_nouns(string) :\n",
    "    \"\"\"\n",
    "    This finction takes in two dictionaries of proper nouns that needs to be capitalized in the string \n",
    "    Input: String \n",
    "    Output: Captalizing the name that are in the two dictionaries\n",
    "    \n",
    "    \"\"\"\n",
    "    dictionnary1=data1['cities']+data1['countries']+data1['days']+data1['months']+data1['names']\n",
    "    dictionnary2=data2['cities']+data2['countries']+data2['days']+data2['months']+data2['names']\n",
    "    text_word=string.split()\n",
    "    for i in range(len(text_word)) :\n",
    "        if text_word[i] in dictionnary1 or text_word[i] in dictionnary2:\n",
    "            text_word[i]=text_word[i].capitalize()\n",
    "    new_string=' '.join(text_word)\n",
    "    return new_string\n",
    "proper_nouns('This project was done by luc, olivia, moreen and emmanuel at monday, tuesday of october. luc and moreen will go to benin for his internship and after go to canada.')   "
   ]
  },
  {
   "cell_type": "code",
   "execution_count": null,
   "id": "classical-dakota",
   "metadata": {},
   "outputs": [],
   "source": [
    "def Luc_Moreen_Olivia_Emmanuel(string):\n",
    "    \"\"\"\n",
    "    This function is used to call all the function above in a systematic way \n",
    "    Input: String \n",
    "    Output: New string the is well \n",
    "    - capitalized character after the  \".\", \"?\", \"!\"\n",
    "    - capitalized i that is preceeded by space and followed by space.\n",
    "    - put space after the following punctuation marks  '.', '?', '!', ',', ':', ';'\n",
    "    - capitalize i especially those preceeded and succeeded by space. \n",
    "    \"\"\"\n",
    "    step_1=Cap1(string)\n",
    "    step_2=space(step_1)\n",
    "    step_3=capitalize_i(step_2)\n",
    "    step_4=proper_nouns(step_3)\n",
    "    final=step_4[0].capitalize()+step_4[1:]\n",
    "    return final\n",
    "Luc_Moreen_Olivia_Emmanuel('what time do i have to be there?what’s the address?')"
   ]
  },
  {
   "cell_type": "code",
   "execution_count": null,
   "id": "55d2c576-735f-4ba3-b1b2-f6e7f106eeb6",
   "metadata": {},
   "outputs": [],
   "source": [
    "Luc_Moreen_Olivia_Emmanuel(\"yesterday i visited the museum, it was a fascinating experience.the art exhibits were amazing but i forgot to take pictures.after leaving the museum, I went to a café nearby where i ordered a coffee and a croissant,they took too long to serve me.\")\n"
   ]
  },
  {
   "cell_type": "markdown",
   "id": "historic-reynolds",
   "metadata": {},
   "source": [
    "## ANNEXE : Dictionnaries"
   ]
  },
  {
   "cell_type": "code",
   "execution_count": 5,
   "id": "silver-forum",
   "metadata": {},
   "outputs": [],
   "source": [
    "data1 = {\n",
    "    \"days\": [\"monday,\", \"tuesday,\", \"wednesday,\", \"thursday,\", \"friday,\", \"saturday,\", \"sunday,\"],\n",
    "    \"months\": [\"january,\", \"february,\", \"march,\", \"april,\", \"may,\", \"june,\", \"july,\", \"august,\", \"september,\", \"october,\", \"november,\", \"december,\"],\n",
    "    \"countries\": [\n",
    "        \"united states,\", \"canada,\", \"france,\", \"germany,\", \"italy,\", \"brazil,\", \"india,\", \"china,\", \"australia,\", \"japan,\", \n",
    "        \"mexico,\", \"south africa,\", \"russia,\", \"spain,\", \"netherlands,\", \"sweden,\", \"switzerland,\", \"norway,\", \"argentina,\", \"colombia,\", \n",
    "        \"chile,\", \"egypt,\", \"nigeria,\", \"turkey,\", \"saudi arabia,\", \"south korea,\", \"thailand,\", \"vietnam,\", \"greece,\", \"portugal,\", \n",
    "        \"belgium,\", \"denmark,\", \"finland,\", \"new zealand,\", \"ireland,\", \"austria,\", \"poland,\", \"hungary,\", \"czech republic,\", \"romania,\", \n",
    "        \"ukraine,\", \"malaysia,\", \"singapore,\", \"indonesia,\", \"philippines,\", \"pakistan,\", \"bangladesh,\", \"israel,\", \"jordan,\", \n",
    "        \"united arab emirates,\", \"qatar,\", \"kuwait,\", \"oman,\", \"morocco,\", \"tunisia,\", \"algeria,\", \"kenya,\", \"ethiopia,\", \"ghana,\", \n",
    "        \"peru,\", \"venezuela,\", \"uruguay,\", \"paraguay,\", \"bolivia,\", \"ecuador,\", \"lebanon,\", \"syria,\", \"iraq,\", \"iran,\", \n",
    "        \"afghanistan,\", \"nepal,\", \"sri lanka,\", \"maldives,\", \"mongolia,\", \"kazakhstan,\", \"uzbekistan,\", \"azerbaijan,\", \n",
    "        \"georgia,\", \"armenia,\", \"lithuania,\", \"latvia,\", \"estonia,\", \"slovakia,\", \"slovenia,\", \"croatia,\", \"bosnia and herzegovina,\", \n",
    "        \"serbia,\", \"montenegro,\", \"north macedonia,\", \"bulgaria,\", \"belarus,\", \"iceland,\", \"luxembourg,\", \"malta,\", \"cyprus,\", \n",
    "        \"mauritius,\", \"seychelles,\", \"fiji,\", \"papua new guinea,\", \"zambia,\", \"zimbabwe,\", \"angola,\", \"mozambique,\", \"namibia,\", \n",
    "        \"botswana,\", \"gambia,\", \"guinea,\", \"togo,\", \"benin,\", \"burkina faso,\", \"ivory coast,\", \"liberia,\", \"sierra leone,\", \n",
    "        \"senegal,\", \"cape verde,\", \"somalia,\", \"djibouti,\", \"sudan,\", \"south sudan,\", \"yemen,\", \"oman,\", \"bahrain,\", \"malawi,\", \n",
    "        \"madagascar,\", \"tanzania,\", \"uganda,\", \"rwanda,\", \"burundi,\", \"chad,\", \"niger,\", \"mali,\", \"mauritania,\", \"libya,\", \n",
    "        \"lesotho,\", \"eswatini,\", \"comoros,\", \"eritrea,\", \"guinea-bissau,\", \"central african republic,\", \"equatorial guinea,\", \n",
    "        \"gabon,\", \"congo,\", \"democratic republic of the congo,\", \"cameroon,\", \"nigeria,\", \"angola,\", \"namibia,\", \"botswana,\", \n",
    "        \"malaysia,\", \"brunei,\", \"vanuatu,\", \"solomon islands,\", \"micronesia,\", \"palau,\", \"kiribati,\", \"marshall islands,\", \n",
    "        \"samoa,\", \"tuvalu,\", \"northern mariana islands,\", \"greenland,\", \"saint kitts and nevis,\", \"saint lucia,\", \"saint vincent and the grenadines,\", \n",
    "        \"barbados,\", \"antigua and barbuda,\", \"grenada,\", \"bahamas,\", \"belize,\", \"guyana,\", \"suriname,\", \"trinidad and tobago,\", \n",
    "        \"saint pierre and miquelon,\", \"french guiana,\", \"guadeloupe,\", \"martinique,\", \"reunion,\", \"mayotte,\", \"new caledonia,\", \n",
    "        \"falkland islands,\", \"bermuda,\", \"cayman islands,\", \"anguilla,\", \"british virgin islands,\", \"turks and caicos islands,\", \n",
    "        \"monaco,\", \"san marino,\", \"liechtenstein,\", \"vatican city,\", \"andorra,\", \"gibraltar,\", \"aruba,\", \"curacao,\", \"sint maarten,\", \n",
    "        \"saint martin,\", \"saint barthelemy,\", \"saint helena,\", \"south georgia and south sandwich islands,\"\n",
    "    ],\n",
    "    \"names\": [\"luc,\", \"fiacre,\", \"kouderin,\", \"john,\", \"mary,\", \"james,\", \"patricia,\", \"robert,\", \"jennifer,\", \"michael,\", \"linda,\", \"william,\", \"elizabeth,\", \"david,\", \"barbara,\", \"richard,\", \"susan,\", \"joseph,\", \"jessica,\", \"thomas,\", \"sarah,\", \"charles,\", \"karen,\", \"christopher,\", \"nancy,\", \"daniel,\", \"lisa,\", \"matthew,\", \"betty,\", \"anthony,\", \"sandra,\", \"donald,\", \"ashley,\", \"george,\", \"kimberly,\", \"paul,\", \"carol,\", \"mark,\", \"michelle,\", \"edward,\", \"emily,\", \"steven,\", \"amanda,\", \"kenneth,\", \"melissa,\", \"andrew,\", \"deborah,\", \"joshua,\", \"stephanie,\", \"kevin,\", \"rebecca,\", \"brian,\", \"laura,\", \"ronald,\", \"helen,\", \"timothy,\", \"sharon,\", \"jason,\", \"cynthia,\", \"jeffrey,\", \"kathleen,\", \"ryan,\", \"shirley,\", \"jacob,\", \"amy,\", \"gary,\", \"angela,\", \"nicholas,\", \"brenda,\", \"eric,\", \"emma,\", \"jonathan,\", \"anna,\", \"stephen,\", \"ruth,\", \"larry,\", \"frances,\", \"scott,\", \"megan,\", \"frank,\", \"jean,\", \"justin,\", \"grace,\", \"brandon,\", \"victoria,\", \"raymond,\", \"diane,\", \"gregory,\", \"alice,\", \"samuel,\", \"julia,\", \"benjamin,\", \"kathryn,\", \"patrick,\", \"sara,\", \"alexander,\", \"janet,\", \"jack,\", \"maria,\"],\n",
    "    \"cities\": [\n",
    "        \"new york,\", \"los angeles,\", \"chicago,\", \"houston,\", \"phoenix,\", \"san francisco,\", \"paris,\", \"berlin,\", \"tokyo,\", \n",
    "        \"sydney,\", \"london,\", \"toronto,\", \"rome,\", \"rio de janeiro,\", \"johannesburg,\", \"mumbai,\", \"beijing,\", \"bangkok,\", \n",
    "        \"moscow,\", \"seoul,\", \"buenos aires,\", \"lagos,\", \"istanbul,\", \"madrid,\", \"vienna,\", \"dubai,\", \"zurich,\", \"singapore,\", \n",
    "        \"cairo,\", \"cape town,\", \"stockholm,\", \"helsinki,\", \"oslo,\", \"copenhagen,\", \"amsterdam,\", \"brussels,\", \"lisbon,\", \n",
    "        \"dublin,\", \"warsaw,\", \"budapest,\", \"prague,\", \"bucharest,\", \"athens,\", \"sao paulo,\", \"kuala lumpur,\", \"jakarta,\", \n",
    "        \"lima,\", \"bogota,\", \"caracas,\", \"quito,\", \"montevideo,\", \"santiago,\", \"ankara,\", \"jerusalem,\", \"tehran,\", \"baghdad,\", \n",
    "        \"kabul,\", \"damascus,\", \"riyadh,\", \"abu dhabi,\", \"doha,\", \"kuwait city,\", \"amman,\", \"muscat,\", \"kathmandu,\", \"dhaka,\", \n",
    "        \"islamabad,\", \"lahore,\", \"karachi,\", \"tashkent,\", \"baku,\", \"yerevan,\", \"tbilisi,\", \"vilnius,\", \"riga,\", \"tallinn,\", \n",
    "        \"ljubljana,\", \"zagreb,\", \"sarajevo,\", \"skopje,\", \"podgorica,\", \"belgrade,\", \"sofia,\", \"chisinau,\", \"havana,\", \n",
    "        \"kingston,\", \"port-au-prince,\", \"manila,\", \"nairobi,\", \"accra,\", \"addis ababa,\", \"kampala,\", \"harare,\", \"lusaka,\", \n",
    "        \"windhoek,\", \"gaborone,\", \"maputo,\", \"dakar,\", \"bamako,\", \"niamey,\", \"freetown,\", \"conakry,\", \"banjul,\", \"monrovia,\", \n",
    "        \"mogadishu,\", \"djibouti,\", \"antananarivo,\", \"blantyre,\", \"dodoma,\", \"juba,\", \"khartoum,\", \"victoria,\", \"mbabane,\", \n",
    "        \"maseru,\", \"luanda,\", \"ndjamena,\", \"nouakchott,\", \"libreville,\", \"malabo,\", \"brazzaville,\", \"kinshasa,\", \"yaounde\"]}\n"
   ]
  },
  {
   "cell_type": "code",
   "execution_count": null,
   "id": "scientific-elizabeth",
   "metadata": {},
   "outputs": [],
   "source": [
    "data2 = {\n",
    "    \"days\": [\"monday\", \"tuesday\", \"wednesday\", \"thursday\", \"friday\", \"saturday\", \"sunday\"],\n",
    "    \"months\": [\"january\", \"february\", \"march\", \"april\", \"may\", \"june\", \"july\", \"august\", \"september\", \"october\", \"october.\",\"november\", \"december\"],\n",
    "    \"countries\": [\n",
    "        \"united states\", \"canada\",  \"canada.\", \"france\", \"germany\", \"italy\", \"brazil\", \"india\", \"china\", \"australia\", \"japan\", \n",
    "        \"mexico\", \"south africa\", \"russia\", \"spain\", \"netherlands\", \"sweden\", \"switzerland\", \"norway\", \"argentina\", \"colombia\", \n",
    "        \"chile\", \"egypt\", \"nigeria\", \"turkey\", \"saudi arabia\", \"south korea\", \"thailand\", \"vietnam\", \"greece\", \"portugal\", \n",
    "        \"belgium\", \"denmark\", \"finland\", \"new zealand\", \"ireland\", \"austria\", \"poland\", \"hungary\", \"czech republic\", \"romania\", \n",
    "        \"ukraine\", \"malaysia\", \"singapore\", \"indonesia\", \"philippines\", \"pakistan\", \"bangladesh\", \"israel\", \"jordan\", \n",
    "        \"united arab emirates\", \"qatar\", \"kuwait\", \"oman\", \"morocco\", \"tunisia\", \"algeria\", \"kenya\", \"ethiopia\", \"ghana\", \n",
    "        \"peru\", \"venezuela\", \"uruguay\", \"paraguay\", \"bolivia\", \"ecuador\", \"lebanon\", \"syria\", \"iraq\", \"iran\", \n",
    "        \"afghanistan\", \"nepal\", \"sri lanka\", \"maldives\", \"mongolia\", \"kazakhstan\", \"uzbekistan\", \"azerbaijan\", \n",
    "        \"georgia\", \"armenia\", \"lithuania\", \"latvia\", \"estonia\", \"slovakia\", \"slovenia\", \"croatia\", \"bosnia and herzegovina\", \n",
    "        \"serbia\", \"montenegro\", \"north macedonia\", \"bulgaria\", \"belarus\", \"iceland\", \"luxembourg\", \"malta\", \"cyprus\", \n",
    "        \"mauritius\", \"seychelles\", \"fiji\", \"papua new guinea\", \"zambia\", \"zimbabwe\", \"angola\", \"mozambique\", \"namibia\", \n",
    "        \"botswana\", \"gambia\", \"guinea\", \"togo\", \"benin\", \"burkina faso\", \"ivory coast\", \"liberia\", \"sierra leone\", \n",
    "        \"senegal\", \"cape verde\", \"somalia\", \"djibouti\", \"sudan\", \"south sudan\", \"yemen\", \"oman\", \"bahrain\", \"malawi\", \n",
    "        \"madagascar\", \"tanzania\", \"uganda\", \"rwanda\", \"burundi\", \"chad\", \"niger\", \"mali\", \"mauritania\", \"libya\", \n",
    "        \"lesotho\", \"eswatini\", \"comoros\", \"eritrea\", \"guinea-bissau\", \"central african republic\", \"equatorial guinea\", \n",
    "        \"gabon\", \"congo\", \"democratic republic of the congo\", \"cameroon\", \"nigeria\", \"angola\", \"namibia\", \"botswana\", \n",
    "        \"malaysia\", \"brunei\", \"vanuatu\", \"solomon islands\", \"micronesia\", \"palau\", \"kiribati\", \"marshall islands\", \n",
    "        \"samoa\", \"tuvalu\", \"northern mariana islands\", \"greenland\", \"saint kitts and nevis\", \"saint lucia\", \"saint vincent and the grenadines\", \n",
    "        \"barbados\", \"antigua and barbuda\", \"grenada\", \"bahamas\", \"belize\", \"guyana\", \"suriname\", \"trinidad and tobago\", \n",
    "        \"saint pierre and miquelon\", \"french guiana\", \"guadeloupe\", \"martinique\", \"reunion\", \"mayotte\", \"new caledonia\", \n",
    "        \"falkland islands\", \"bermuda\", \"cayman islands\", \"anguilla\", \"british virgin islands\", \"turks and caicos islands\", \n",
    "        \"monaco\", \"san marino\", \"liechtenstein\", \"vatican city\", \"andorra\", \"gibraltar\", \"aruba\", \"curacao\", \"sint maarten\", \n",
    "        \"saint martin\", \"saint barthelemy\", \"saint helena\", \"south georgia and south sandwich islands\"\n",
    "    ],\n",
    "    \"names\": [\"luc\", \"olivia,\", \"moreen\", \"emmanuel\", \"john\", \"mary\", \"james\", \"patricia\", \"robert\", \"jennifer\", \"michael\", \"linda\", \"william\", \"elizabeth\", \"david\", \"barbara\", \"richard\", \"susan\", \"joseph\", \"jessica\", \"thomas\", \"sarah\", \"charles\", \"karen\", \"christopher\", \"nancy\", \"daniel\", \"lisa\", \"matthew\", \"betty\", \"anthony\", \"sandra\", \"donald\", \"ashley\", \"george\", \"kimberly\", \"paul\", \"carol\", \"mark\", \"michelle\", \"edward\", \"emily\", \"steven\", \"amanda\", \"kenneth\", \"melissa\", \"andrew\", \"deborah\", \"joshua\", \"stephanie\", \"kevin\", \"rebecca\", \"brian\", \"laura\", \"ronald\", \"helen\", \"timothy\", \"sharon\", \"jason\", \"cynthia\", \"jeffrey\", \"kathleen\", \"ryan\", \"shirley\", \"jacob\", \"amy\", \"gary\", \"angela\", \"nicholas\", \"brenda\", \"eric\", \"emma\", \"jonathan\", \"anna\", \"stephen\", \"ruth\", \"larry\", \"frances\", \"scott\", \"megan\", \"frank\", \"jean\", \"justin\", \"grace\", \"brandon\", \"victoria\", \"raymond\", \"diane\", \"gregory\", \"alice\", \"samuel\", \"julia\", \"benjamin\", \"kathryn\", \"patrick\", \"sara\", \"alexander\", \"janet\", \"jack\", \"maria\"],\n",
    "    \"cities\": [\n",
    "        \"new york\", \"los angeles\", \"chicago\", \"houston\", \"phoenix\", \"san francisco\", \"paris\", \"berlin\", \"tokyo\", \n",
    "        \"sydney\", \"london\", \"toronto\", \"rome\", \"rio de janeiro\", \"johannesburg\", \"mumbai\", \"beijing\", \"bangkok\", \n",
    "        \"moscow\", \"seoul\", \"buenos aires\", \"lagos\", \"istanbul\", \"madrid\", \"vienna\", \"dubai\", \"zurich\", \"singapore\", \n",
    "        \"cairo\", \"cape town\", \"stockholm\", \"helsinki\", \"oslo\", \"copenhagen\", \"amsterdam\", \"brussels\", \"lisbon\", \n",
    "        \"dublin\", \"warsaw\", \"budapest\", \"prague\", \"bucharest\", \"athens\", \"sao paulo\", \"kuala lumpur\", \"jakarta\", \n",
    "        \"lima\", \"bogota\", \"caracas\", \"quito\", \"montevideo\", \"santiago\", \"ankara\", \"jerusalem\", \"tehran\", \"baghdad\", \n",
    "        \"kabul\", \"damascus\", \"riyadh\", \"abu dhabi\", \"doha\", \"kuwait city\", \"amman\", \"muscat\", \"kathmandu\", \"dhaka\", \n",
    "        \"islamabad\", \"lahore\", \"karachi\", \"tashkent\", \"baku\", \"yerevan\", \"tbilisi\", \"vilnius\", \"riga\", \"tallinn\", \n",
    "        \"ljubljana\", \"zagreb\", \"sarajevo\", \"skopje\", \"podgorica\", \"belgrade\", \"sofia\", \"chisinau\", \"havana\", \n",
    "        \"kingston\", \"port-au-prince\", \"manila\", \"nairobi\", \"accra\", \"addis ababa\", \"kampala\", \"harare\", \"lusaka\", \n",
    "        \"windhoek\", \"gaborone\", \"maputo\", \"dakar\", \"bamako\", \"niamey\", \"freetown\", \"conakry\", \"banjul\", \"monrovia\", \n",
    "        \"mogadishu\", \"djibouti\", \"antananarivo\", \"blantyre\", \"dodoma\", \"juba\", \"khartoum\", \"victoria\", \"mbabane\", \n",
    "        \"maseru\", \"luanda\", \"ndjamena\", \"nouakchott\", \"libreville\", \"malabo\", \"brazzaville\", \"kinshasa\", \"yaounde\"\n",
    "    ]\n",
    "}\n"
   ]
  }
 ],
 "metadata": {
  "kernelspec": {
   "display_name": "Python 3 (ipykernel)",
   "language": "python",
   "name": "python3"
  },
  "language_info": {
   "codemirror_mode": {
    "name": "ipython",
    "version": 3
   },
   "file_extension": ".py",
   "mimetype": "text/x-python",
   "name": "python",
   "nbconvert_exporter": "python",
   "pygments_lexer": "ipython3",
   "version": "3.12.4"
  }
 },
 "nbformat": 4,
 "nbformat_minor": 5
}
